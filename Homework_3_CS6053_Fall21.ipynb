{
 "cells": [
  {
   "cell_type": "markdown",
   "metadata": {
    "id": "umNTUv2cfHeA"
   },
   "source": [
    "# Introduction to Data Science\n",
    "## Homework 3"
   ]
  },
  {
   "cell_type": "markdown",
   "metadata": {
    "id": "4GlW_q_DfHeF"
   },
   "source": [
    "Student Name: HenryTse\n",
    "\n",
    "Student Netid: ht688\n",
    "***"
   ]
  },
  {
   "cell_type": "markdown",
   "metadata": {
    "id": "Ao4sbbN_fHeF"
   },
   "source": [
    "### Part 1 - Preparing a Training Set and Training a Decision Tree (Total 10 Points)\n",
    "This is a hands-on task where we build a predictive model using Decision Trees. For this part, we will be using the data in `cell2cell_data.csv`.\n",
    "\n",
    "These historical data consist of 39,859 customers: 19,901 customers that churned (i.e., left the company) and 19,958 that did not churn (see the `\"churndep\"` variable). Here are the dataset's 11 possible predictor variables for churning behavior: \n",
    "\n",
    "```\n",
    "Pos.  Var. Name  Var. Description\n",
    "----- ---------- --------------------------------------------------------------\n",
    "1     revenue    Mean monthly revenue in dollars\n",
    "2     outcalls   Mean number of outbound voice calls\n",
    "3     incalls    Mean number of inbound voice calls\n",
    "4     months     Months in Service\n",
    "5     eqpdays    Number of days the customer has had his/her current equipment\n",
    "6     webcap     Handset is web capable\n",
    "7     marryyes   Married (1=Yes; 0=No)\n",
    "8     travel     Has traveled to non-US country (1=Yes; 0=No)\n",
    "9     pcown      Owns a personal computer (1=Yes; 0=No)\n",
    "10    creditcd   Possesses a credit card (1=Yes; 0=No)\n",
    "11    retcalls   Number of calls previously made to retention team\n",
    "```\n",
    "\n",
    "The 12th column, the dependent variable `\"churndep\"`, equals 1 if the customer churned, and 0 otherwise. "
   ]
  },
  {
   "cell_type": "markdown",
   "metadata": {
    "id": "RinEl8tefHeG"
   },
   "source": [
    "1\\. Load the data and prepare it for modeling. Note that the features are already processed for you, so the only thing needed here is to split the data into training and testing. Use pandas to create two data frames: train_df and test_df, where train_df has 80% of the data chosen uniformly at random without replacement (test_df should have the other 20%). Also, make sure to write your own code to do the splits. You may use any random() function from numpy but do not use the data splitting functions from Sklearn.<br><br>\n",
    "\n",
    "(2 Points)"
   ]
  },
  {
   "cell_type": "code",
   "execution_count": 1,
   "metadata": {
    "id": "dSSp41-_fHeG"
   },
   "outputs": [],
   "source": [
    "#Place your code here\n",
    "from sklearn import tree\n",
    "from sklearn.metrics import accuracy_score \n",
    "from sklearn.tree import DecisionTreeClassifier\n",
    "import matplotlib.pyplot as plt\n",
    "import numpy as np\n",
    "import pandas as pd\n",
    "\n",
    "churn = pd.read_csv(\"cell2cell_data.csv\")\n",
    "\n",
    "train_size = 0.8 \n",
    "np.random.seed(3462) \n",
    "\n",
    "index = np.random.rand(len(churn)) < train_size \n",
    "train_churn = churn[index]\n",
    "test_churn = churn[~index]"
   ]
  },
  {
   "cell_type": "markdown",
   "metadata": {
    "id": "3glHFghUfHeH"
   },
   "source": [
    "2\\. Now build and train a decision tree classifier using `DecisionTreeClassifier()` [(manual page)](http://scikit-learn.org/stable/modules/generated/sklearn.tree.DecisionTreeClassifier.html) on train_df to predict the `\"churndep\"` target variable. Make sure to use `criterion='entropy'` when instantiating an instance of `DecisionTreeClassifier()`. For all other settings you should use all of the default options.\n",
    "\n",
    "(1 Point)"
   ]
  },
  {
   "cell_type": "code",
   "execution_count": 2,
   "metadata": {
    "id": "7SpcUFkBfHeI"
   },
   "outputs": [],
   "source": [
    "#Place your code here\n",
    "train_target = train_churn.loc[:,'churndep']\n",
    "train_features = train_churn.loc[:,'revenue':'retcalls']\n",
    "decision_tree = DecisionTreeClassifier(criterion=\"entropy\")\n",
    "trained_tree = decision_tree.fit(train_features,train_target)"
   ]
  },
  {
   "cell_type": "markdown",
   "metadata": {
    "id": "1KTkyj1zfHeI"
   },
   "source": [
    "3\\. Using the resulting model from 2.2, show a bar plot of feature names and their feature importance (hint: check the attributes of the `DecisionTreeClassifier()` object directly in IPython or check the manual!).\n",
    "\n",
    "(3 Points)"
   ]
  },
  {
   "cell_type": "code",
   "execution_count": 3,
   "metadata": {
    "id": "kVn_uirPfHeJ"
   },
   "outputs": [
    {
     "data": {
      "image/png": "[encoded data removed]",
      "text/plain": [
       "<Figure size 1440x216 with 1 Axes>"
      ]
     },
     "metadata": {
      "needs_background": "light"
     },
     "output_type": "display_data"
    }
   ],
   "source": [
    "#Place your code here\n",
    "names = list(train_features)\n",
    "length = np.arange(len(list(train_features)))\n",
    "importances = pd.DataFrame({\"Features\":list(train_features),\"Importances\":trained_tree.feature_importances_})\n",
    "importances.sort_values(by='Importances',ascending=False,inplace=True)\n",
    "\n",
    "plt.figure(figsize=(20,3))\n",
    "plt.title(\"Feature Importances\")\n",
    "plt.bar(length,importances[\"Importances\"],color=\"red\",align=\"center\")\n",
    "plt.xticks(length,importances[\"Features\"])\n",
    "plt.xlabel('Features')\n",
    "plt.ylabel('Importances')\n",
    "plt.show()"
   ]
  },
  {
   "cell_type": "markdown",
   "metadata": {
    "id": "ngRqTE-cfHeK"
   },
   "source": [
    "4\\. Is the relationship between the top 3 most important features (as measured here) negative or positive? If your marketing director asked you to explain the top 3 drivers of churn, how would you interpret the relationship between these 3 features and the churn outcome?  What \"real-life\" connection can you draw between each variable and churn?\n",
    "\n",
    "(2 Points)"
   ]
  },
  {
   "cell_type": "code",
   "execution_count": 4,
   "metadata": {
    "id": "g6Z41fRNfHeK"
   },
   "outputs": [
    {
     "data": {
      "text/html": [
       "<div>\n",
       "<style scoped>\n",
       "    .dataframe tbody tr th:only-of-type {\n",
       "        vertical-align: middle;\n",
       "    }\n",
       "\n",
       "    .dataframe tbody tr th {\n",
       "        vertical-align: top;\n",
       "    }\n",
       "\n",
       "    .dataframe thead th {\n",
       "        text-align: right;\n",
       "    }\n",
       "</style>\n",
       "<table border=\"1\" class=\"dataframe\">\n",
       "  <thead>\n",
       "    <tr style=\"text-align: right;\">\n",
       "      <th></th>\n",
       "      <th>revenue</th>\n",
       "      <th>eqpdays</th>\n",
       "      <th>outcalls</th>\n",
       "      <th>churndep</th>\n",
       "    </tr>\n",
       "  </thead>\n",
       "  <tbody>\n",
       "    <tr>\n",
       "      <th>revenue</th>\n",
       "      <td>1.000000</td>\n",
       "      <td>-0.222074</td>\n",
       "      <td>0.500709</td>\n",
       "      <td>-0.013370</td>\n",
       "    </tr>\n",
       "    <tr>\n",
       "      <th>eqpdays</th>\n",
       "      <td>-0.222074</td>\n",
       "      <td>1.000000</td>\n",
       "      <td>-0.244112</td>\n",
       "      <td>0.112821</td>\n",
       "    </tr>\n",
       "    <tr>\n",
       "      <th>outcalls</th>\n",
       "      <td>0.500709</td>\n",
       "      <td>-0.244112</td>\n",
       "      <td>1.000000</td>\n",
       "      <td>-0.037071</td>\n",
       "    </tr>\n",
       "    <tr>\n",
       "      <th>churndep</th>\n",
       "      <td>-0.013370</td>\n",
       "      <td>0.112821</td>\n",
       "      <td>-0.037071</td>\n",
       "      <td>1.000000</td>\n",
       "    </tr>\n",
       "  </tbody>\n",
       "</table>\n",
       "</div>"
      ],
      "text/plain": [
       "           revenue   eqpdays  outcalls  churndep\n",
       "revenue   1.000000 -0.222074  0.500709 -0.013370\n",
       "eqpdays  -0.222074  1.000000 -0.244112  0.112821\n",
       "outcalls  0.500709 -0.244112  1.000000 -0.037071\n",
       "churndep -0.013370  0.112821 -0.037071  1.000000"
      ]
     },
     "execution_count": 4,
     "metadata": {},
     "output_type": "execute_result"
    }
   ],
   "source": [
    "#Place your code here \n",
    "column_names = list(churn[importances[:3][\"Features\"]])\n",
    "column_names.extend([\"churndep\"])\n",
    "churn[column_names].corr()"
   ]
  },
  {
   "cell_type": "markdown",
   "metadata": {
    "id": "2ZzahZM6fHeK"
   },
   "source": [
    "<p>\n",
    "<span style=\"color:blue\">\n",
    "Place your response here\n",
    "</span>\n",
    "</p>\n",
    "The three most important features are revenue, eqpdays, and outcalls. \n",
    "Outcalls and revenue is postively correlated, as outcalls increases revenue will also increase mildly.\n",
    "Eqpdays and revenue is negatively correlated, as eqpdays decreases revenue will slightly increase.\n",
    "Outcalls and eqpdays is also negatively correlated, as outcalls decreases eqpdays will slightly increase.\n",
    "\n",
    "Looking at the top three drivers of churn. As our revenue per customer increases, they would be less likely to churn. Long terms customers are usually satifisied with the service, and they would be more willing to spend more on services provided by our company; however, the correlation between these features are insignificant. \n",
    "Equipment longevity would cause the customer to be more likely to churn. Ensuring that customers continue to order our products will lead to more loyal customers (customer longevity)\n",
    "The more outgoing calls are made by customers, the less likely they are to churn. Using our service would indicate that the customer is satifisfied, satisfied customers are less likely to churn. The relationship between these two features is also insignificant."
   ]
  },
  {
   "cell_type": "markdown",
   "metadata": {
    "id": "hzRMPRCDfHeL"
   },
   "source": [
    "5\\. Using the classifier built in 2.2, try predicting `\"churndep\"` on both the train_df and test_df data sets. What is the accuracy on each? Remember: accuracy is the fraction of predictions whose labels were gotten right by the model. What conclusions can you derive from this?\n",
    "\n",
    "(2 Points)"
   ]
  },
  {
   "cell_type": "code",
   "execution_count": 5,
   "metadata": {
    "id": "YHCy6vJ_fHeL"
   },
   "outputs": [
    {
     "name": "stdout",
     "output_type": "stream",
     "text": [
      "Training Accuracy = 99.987%\n",
      "Test Accuracy = 53.838%\n"
     ]
    }
   ],
   "source": [
    "#Place your code here\n",
    "# Test dataset\n",
    "test_features = test_churn.loc[:,'revenue':'retcalls'] \n",
    "test_target = test_churn.loc[:,'churndep']\n",
    "\n",
    "# Target dataset\n",
    "test_results = trained_tree.predict(test_features)\n",
    "train_results = trained_tree.predict(train_features)\n",
    "\n",
    "test_accuracy = accuracy_score(test_target,test_results)\n",
    "train_accuracy = accuracy_score(train_target,train_results)\n",
    "print(\"Training Accuracy = %.3f%%\" %(train_accuracy * 100))\n",
    "print(\"Test Accuracy = %.3f%%\" %(test_accuracy * 100))"
   ]
  },
  {
   "cell_type": "markdown",
   "metadata": {
    "id": "Ja0wmZLAfHeL"
   },
   "source": [
    "### Part 2 - Finding a Good Decision Tree (Total 10 Points)\n",
    "The default options for your decision tree may not be optimal. We need to analyze whether tuning the parameters can improve the accuracy of the classifier.  For the following options `min_samples_split` and `min_samples_leaf`:"
   ]
  },
  {
   "cell_type": "markdown",
   "metadata": {
    "id": "b-T1IkejfHeL"
   },
   "source": [
    "1\\. Generate a list of 10 values of each for the parameters min_samples_split and min_samples_leaf. \n",
    "\n",
    "(1 Point)"
   ]
  },
  {
   "cell_type": "code",
   "execution_count": 6,
   "metadata": {
    "id": "WSYV2Nr0fHeL"
   },
   "outputs": [],
   "source": [
    "#Place your code here\n",
    "sample_leaf = np.arange(80,1000,100)\n",
    "sample_split = np.arange(80,1000,100)"
   ]
  },
  {
   "cell_type": "markdown",
   "metadata": {
    "id": "Q0KiM6aVfHeM"
   },
   "source": [
    "2\\. Explain what your reasoning was for choosing the above ranges.\n",
    "\n",
    "(1 Points)"
   ]
  },
  {
   "cell_type": "markdown",
   "metadata": {
    "id": "lHFkW-zkfHeM"
   },
   "source": [
    "<p>\n",
    "<span style=\"color:blue\">\n",
    "Place your response here\n",
    "</span>\n",
    "</p>\n",
    "Significant difference between the test and training accuracy would indicate overfitting in our model.\n",
    "We changed min_samples_split to a higher value than the default value since the low default value causes our model to overfit on the training data. We select a larger value since the size of the data is large.\n",
    "We changed higher min_samples_leaf to a higher valiue than the default value. We won't select a value that is too high as it can increase the bias and decrease the variance."
   ]
  },
  {
   "cell_type": "markdown",
   "metadata": {
    "id": "QuTpZs59fHeM"
   },
   "source": [
    "3\\. For each combination of values in 3.1 (there should be 100), build a new classifier and check the classifier's accuracy on the test data. Plot the test set accuracy for these options. Use the values of `min_samples_split` as the x-axis and generate a new series (line) for each of `min_samples_leaf`.\n",
    "\n",
    "(5 Points)"
   ]
  },
  {
   "cell_type": "code",
   "execution_count": 7,
   "metadata": {
    "id": "OVvaNvumfHeM"
   },
   "outputs": [
    {
     "data": {
      "image/png": "[encoded data removed]",
      "text/plain": [
       "<Figure size 1080x720 with 1 Axes>"
      ]
     },
     "metadata": {
      "needs_background": "light"
     },
     "output_type": "display_data"
    },
    {
     "name": "stdout",
     "output_type": "stream",
     "text": [
      "Best Sample Leaf Size is 180 and Best Sample Split Size is 480\n",
      "Best Accuracy is 59.287691920463125\n"
     ]
    }
   ],
   "source": [
    "#Place your code here\n",
    "max_samples_leaf = 0 \n",
    "max_samples_split = 0\n",
    "max_accuracy = 0\n",
    "plt.figure(figsize=(15,10))\n",
    "for split in sample_split:\n",
    "    results = []\n",
    "    for leaf in sample_leaf:\n",
    "        classifier = DecisionTreeClassifier(criterion= 'entropy', min_samples_split=split, min_samples_leaf=leaf).fit(train_features,train_target)\n",
    "        predict = classifier.predict(test_features)\n",
    "        accuracy = accuracy_score(test_target, predict)\n",
    "        results.append(accuracy)\n",
    "        if accuracy > max_accuracy:\n",
    "            max_accuracy = accuracy\n",
    "            max_sample_leaf = leaf\n",
    "            max_sample_split = split\n",
    "    plt.plot(sample_leaf, results, label = f\"Split={split}\")\n",
    "    \n",
    "plt.legend(bbox_to_anchor=(1.5, 1),loc = 10)\n",
    "plt.title('Accuracy of Classifier')\n",
    "plt.ylabel('Accuracy')\n",
    "plt.xlabel('Min Samples Leaf')\n",
    "plt.show()\n",
    "print(\"Best Sample Leaf Size is %d and Best Sample Split Size is %d\" %(max_sample_leaf,max_sample_split))\n",
    "print(\"Best Accuracy is \" + str(max_accuracy * 100))"
   ]
  },
  {
   "cell_type": "markdown",
   "metadata": {
    "id": "g4Jq_QpbfHeM"
   },
   "source": [
    "4\\. Which configuration returns the best accuracy? What is this accuracy? (Note, if you don't see much variation in the test set accuracy across values of min_samples_split or min_samples_leaf, try redoing the above steps with a different range of values).\n",
    "\n",
    "(1 Point)"
   ]
  },
  {
   "cell_type": "markdown",
   "metadata": {
    "collapsed": true,
    "id": "N0jS1pxIfHeM"
   },
   "source": [
    "<p>\n",
    "<span style=\"color:blue\">\n",
    "Place your response here\n",
    "</span>\n",
    "</p>\n",
    "Best Sample Leaf Size is 180 and Best Sample Split Size is 480\n",
    "\n",
    "Best Accuracy is 59.29%"
   ]
  },
  {
   "cell_type": "markdown",
   "metadata": {
    "id": "s2YlEqsMfHeN"
   },
   "source": [
    "5\\. If you were working for a marketing department, how would you use your churn production model in a real business environment? Explain why churn prediction might be good for the business and how one might improve churn by using this model.\n",
    "\n",
    "(2 Points)"
   ]
  },
  {
   "cell_type": "markdown",
   "metadata": {
    "id": "OLDVCCkAfHeN"
   },
   "source": [
    "<p>\n",
    "<span style=\"color:blue\">\n",
    "Place your response here\n",
    "</span>\n",
    "</p>\n",
    "Churn prediction model is essential for any type of good business. Analyzing customer churn prediction models will allow businesses to create different approaches to retain existing customers. Attracting new customers would be a lot more difficult than retaining existing ones, as you may need to convince the customer to switch services/products. This would be very costly as you would need to spend on different ad campaigns and promotions in order to entice new customers. \n",
    "\n",
    "By identifying top drivers of churn, a company may focus their resources on those specific fields. A way to improve churn using this model would be to reward existing customers identified by this model with discounts or promotion. This will make the customer feel that they are being rewarded for their loyalty resulting in prolong use of the company's product/services."
   ]
  },
  {
   "cell_type": "markdown",
   "metadata": {
    "collapsed": true,
    "id": "kmz2Y192fHeN"
   },
   "source": [
    "### Part 3: Model selection with cross-validation (5 points)\n",
    "In this part, we will focus on cross-validation to find a good value for parameter `max_depth`.\n"
   ]
  },
  {
   "cell_type": "markdown",
   "metadata": {
    "id": "_Q_757mQfHeN"
   },
   "source": [
    "1\\. Write a cross-validation function that does the following:\n",
    "- Takes as inputs a dataset, a label name, # of splits/folds (`k`), and a sequence of values for the maximum depth of the tree (`max_depth`). \n",
    "- Shuffles the data.\n",
    "- Splits the data into `k` folds according to the cross-validation logic\n",
    "- Performs two loops\n",
    "  - Outer Loop: `for each f in range(k)`:\n",
    "    - Inner Loop: `for each value in max_depth_sequence`:\n",
    "      - Trains a Decision Tree on the training split with the `max_depth=value` (USE criterion='entropy' BUT DO NOT ALTER THE OTHER PARAMETERS)\n",
    "      - Computes accuracy_value_f on test split\n",
    "      - Stores accuracy_value_f in a  dictionary of values\n",
    "- Returns a dictionary, where each key-value pair is: `value:[accuracy_value_1,...,accuracy_value_k]`\n",
    "\n",
    "(2 Points)"
   ]
  },
  {
   "cell_type": "code",
   "execution_count": 8,
   "metadata": {},
   "outputs": [
    {
     "data": {
      "text/html": [
       "<div>\n",
       "<style scoped>\n",
       "    .dataframe tbody tr th:only-of-type {\n",
       "        vertical-align: middle;\n",
       "    }\n",
       "\n",
       "    .dataframe tbody tr th {\n",
       "        vertical-align: top;\n",
       "    }\n",
       "\n",
       "    .dataframe thead th {\n",
       "        text-align: right;\n",
       "    }\n",
       "</style>\n",
       "<table border=\"1\" class=\"dataframe\">\n",
       "  <thead>\n",
       "    <tr style=\"text-align: right;\">\n",
       "      <th></th>\n",
       "      <th>revenue</th>\n",
       "      <th>outcalls</th>\n",
       "      <th>incalls</th>\n",
       "      <th>months</th>\n",
       "      <th>eqpdays</th>\n",
       "      <th>webcap</th>\n",
       "      <th>marryyes</th>\n",
       "      <th>travel</th>\n",
       "      <th>pcown</th>\n",
       "      <th>creditcd</th>\n",
       "      <th>retcalls</th>\n",
       "      <th>churndep</th>\n",
       "    </tr>\n",
       "  </thead>\n",
       "  <tbody>\n",
       "    <tr>\n",
       "      <th>0</th>\n",
       "      <td>48.82</td>\n",
       "      <td>10.00</td>\n",
       "      <td>3.0</td>\n",
       "      <td>26</td>\n",
       "      <td>780</td>\n",
       "      <td>0</td>\n",
       "      <td>0</td>\n",
       "      <td>0</td>\n",
       "      <td>0</td>\n",
       "      <td>1</td>\n",
       "      <td>4</td>\n",
       "      <td>1</td>\n",
       "    </tr>\n",
       "    <tr>\n",
       "      <th>1</th>\n",
       "      <td>83.53</td>\n",
       "      <td>20.00</td>\n",
       "      <td>1.0</td>\n",
       "      <td>31</td>\n",
       "      <td>745</td>\n",
       "      <td>1</td>\n",
       "      <td>0</td>\n",
       "      <td>0</td>\n",
       "      <td>0</td>\n",
       "      <td>0</td>\n",
       "      <td>4</td>\n",
       "      <td>1</td>\n",
       "    </tr>\n",
       "    <tr>\n",
       "      <th>2</th>\n",
       "      <td>29.99</td>\n",
       "      <td>0.00</td>\n",
       "      <td>0.0</td>\n",
       "      <td>52</td>\n",
       "      <td>1441</td>\n",
       "      <td>0</td>\n",
       "      <td>0</td>\n",
       "      <td>0</td>\n",
       "      <td>1</td>\n",
       "      <td>1</td>\n",
       "      <td>3</td>\n",
       "      <td>1</td>\n",
       "    </tr>\n",
       "    <tr>\n",
       "      <th>3</th>\n",
       "      <td>51.42</td>\n",
       "      <td>0.00</td>\n",
       "      <td>0.0</td>\n",
       "      <td>36</td>\n",
       "      <td>59</td>\n",
       "      <td>1</td>\n",
       "      <td>0</td>\n",
       "      <td>0</td>\n",
       "      <td>0</td>\n",
       "      <td>0</td>\n",
       "      <td>4</td>\n",
       "      <td>1</td>\n",
       "    </tr>\n",
       "    <tr>\n",
       "      <th>4</th>\n",
       "      <td>37.75</td>\n",
       "      <td>2.67</td>\n",
       "      <td>0.0</td>\n",
       "      <td>25</td>\n",
       "      <td>572</td>\n",
       "      <td>0</td>\n",
       "      <td>0</td>\n",
       "      <td>0</td>\n",
       "      <td>1</td>\n",
       "      <td>1</td>\n",
       "      <td>3</td>\n",
       "      <td>1</td>\n",
       "    </tr>\n",
       "  </tbody>\n",
       "</table>\n",
       "</div>"
      ],
      "text/plain": [
       "   revenue  outcalls  incalls  months  eqpdays  webcap  marryyes  travel  \\\n",
       "0    48.82     10.00      3.0      26      780       0         0       0   \n",
       "1    83.53     20.00      1.0      31      745       1         0       0   \n",
       "2    29.99      0.00      0.0      52     1441       0         0       0   \n",
       "3    51.42      0.00      0.0      36       59       1         0       0   \n",
       "4    37.75      2.67      0.0      25      572       0         0       0   \n",
       "\n",
       "   pcown  creditcd  retcalls  churndep  \n",
       "0      0         1         4         1  \n",
       "1      0         0         4         1  \n",
       "2      1         1         3         1  \n",
       "3      0         0         4         1  \n",
       "4      1         1         3         1  "
      ]
     },
     "execution_count": 8,
     "metadata": {},
     "output_type": "execute_result"
    }
   ],
   "source": [
    "df = pd.read_csv('cell2cell_data.csv')\n",
    "df.head()"
   ]
  },
  {
   "cell_type": "code",
   "execution_count": 9,
   "metadata": {
    "id": "H-eCX5rNfHeN"
   },
   "outputs": [],
   "source": [
    "#Place your code here\n",
    "#Uncomment line below\n",
    "from sklearn.model_selection import KFold\n",
    "def xValDecisionTree(dataset, label_name, k, max_depth_sequence):\n",
    "    x_values = dataset.values\n",
    "    y_labels = df[label_name].values\n",
    "    k_fold = KFold(n_splits=k,shuffle=True) \n",
    "    indx = 0\n",
    "    accs = {}\n",
    "    for train_indx, test_indx in k_fold.split(x_values):\n",
    "        acc_scores = []\n",
    "        indx += 1\n",
    "        train_values, test_values = x_values[train_indx], x_values[test_indx]\n",
    "        train_labels, test_labels = y_labels[train_indx], y_labels[test_indx]\n",
    "        for max_depth in max_depth_sequence:\n",
    "            clf = DecisionTreeClassifier(criterion='entropy',max_depth=max_depth).fit(train_values,train_labels)\n",
    "            pred_labels = clf.predict(test_values)\n",
    "            acc_scores.append(accuracy_score(test_labels,pred_labels))\n",
    "        accs[indx] = acc_scores\n",
    "    return(accs)"
   ]
  },
  {
   "cell_type": "markdown",
   "metadata": {
    "id": "SwwXPi2VfHeN"
   },
   "source": [
    "2\\. Using the function written above, do the following:\n",
    "- Generate a sequence `max_depth_sequence = [None, 2, 4, 8, 16, 32, 128, 256, 512]` (Note that None is the default value for this parameter).\n",
    "2.\tCall accs = xValDecisionTree(dataset, 'churndep', 10, `max_depth_sequence`)\n",
    "3.  For each value in accs.keys(), calculate mean(accs[value]). What value is associated with the highest accuracy mean?\n",
    "4.  For each value in accs.keys(), calculate the ranges mean(accs[value]) +/- std(accs[value]). Do the ranges associated with the value that has the highest mean(accs[value]) overlap with ranges for other values? What may this suggest and what are the limitations of a standard deviation based analysis in this scenario?\n",
    "\n",
    "5.  Which depth value would you pick, if any, and why?\n",
    "\n",
    "(3 Points)"
   ]
  },
  {
   "cell_type": "code",
   "execution_count": 10,
   "metadata": {
    "id": "DO7gTC5tfHeO"
   },
   "outputs": [
    {
     "name": "stdout",
     "output_type": "stream",
     "text": [
      "Fold 1\n",
      "Accuracy Mean =  0.5660419455600179\n",
      "SD =  0.02319956870050566\n",
      "Mean +/- SD =  0.5892415142605235\n",
      "Fold 2\n",
      "Accuracy Mean =  0.5576193663543062\n",
      "SD =  0.02094212383930323\n",
      "Mean +/- SD =  0.5785614901936095\n",
      "Fold 3\n",
      "Accuracy Mean =  0.5527108433734941\n",
      "SD =  0.028517660006316423\n",
      "Mean +/- SD =  0.5812285033798105\n",
      "Fold 4\n",
      "Accuracy Mean =  0.5589589086952883\n",
      "SD =  0.023348184359786688\n",
      "Mean +/- SD =  0.582307093055075\n",
      "Fold 5\n",
      "Accuracy Mean =  0.556504031020727\n",
      "SD =  0.024264939041202256\n",
      "Mean +/- SD =  0.5807689700619293\n",
      "Fold 6\n",
      "Accuracy Mean =  0.5522079950902447\n",
      "SD =  0.02332751032402845\n",
      "Mean +/- SD =  0.5755355054142731\n",
      "Fold 7\n",
      "Accuracy Mean =  0.5599631768348816\n",
      "SD =  0.02482871176888191\n",
      "Mean +/- SD =  0.5847918886037635\n",
      "Fold 8\n",
      "Accuracy Mean =  0.5532680559042596\n",
      "SD =  0.031007654087521055\n",
      "Mean +/- SD =  0.5842757099917807\n",
      "Fold 9\n",
      "Accuracy Mean =  0.5596005244511395\n",
      "SD =  0.02726372845643105\n",
      "Mean +/- SD =  0.5868642529075706\n",
      "Fold 10\n",
      "Accuracy Mean =  0.5547186654392279\n",
      "SD =  0.02746481882995836\n",
      "Mean +/- SD =  0.5821834842691862\n"
     ]
    }
   ],
   "source": [
    "#Place your code and answers here. You can create more cells if you want.\n",
    "max_depth_sequence = [None, 2, 4, 8, 16, 32, 128, 256, 512]\n",
    "accs = xValDecisionTree(df.iloc[:,:-1], 'churndep', 10, max_depth_sequence)\n",
    "fold = 1\n",
    "for key in accs.keys():\n",
    "    print('Fold',fold)\n",
    "    print('Accuracy Mean = ',np.mean(accs[key]))\n",
    "    print('SD = ',np.std(accs[key]))\n",
    "    print('Mean +/- SD = ',np.mean(accs[key])+np.std(accs[key]))\n",
    "    fold += 1"
   ]
  },
  {
   "cell_type": "markdown",
   "metadata": {},
   "source": [
    "3. Fold 9 has the highest accuracy mean\n",
    "4. Fold 9 also has the highest ranges (mean +/- std)\n",
    "This may suggest the variability in our sample isn't diverse. Our dataset may be biased and that we would need more samples to dictate our model. Limitations of standard deviation in this scenario is that if the data is too spread out, there may be outliers that affect our results. If the data is too thin, there may not be enough variation and cause bias in our model\n",
    "5. A high depth value would cause overfitting, while a low depth value will cause the model to underfit\n"
   ]
  },
  {
   "cell_type": "code",
   "execution_count": null,
   "metadata": {},
   "outputs": [],
   "source": []
  }
 ],
 "metadata": {
  "colab": {
   "name": "Homework_3_CS6053_Fall21.ipynb",
   "provenance": []
  },
  "kernelspec": {
   "display_name": "Python 3",
   "language": "python",
   "name": "python3"
  },
  "language_info": {
   "codemirror_mode": {
    "name": "ipython",
    "version": 3
   },
   "file_extension": ".py",
   "mimetype": "text/x-python",
   "name": "python",
   "nbconvert_exporter": "python",
   "pygments_lexer": "ipython3",
   "version": "3.8.8"
  }
 },
 "nbformat": 4,
 "nbformat_minor": 1
}

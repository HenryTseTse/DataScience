{
 "cells": [
  {
   "cell_type": "markdown",
   "metadata": {
    "id": "cfWyuZ_IaO-P"
   },
   "source": [
    "# Foundation of Data Science\n",
    "## Homework 4 "
   ]
  },
  {
   "cell_type": "markdown",
   "metadata": {
    "id": "22PYkUOlaO-T"
   },
   "source": [
    "Student Name: Henry Tse\n",
    "\n",
    "Student Netid: ht688\n",
    "***"
   ]
  },
  {
   "cell_type": "markdown",
   "metadata": {
    "id": "ISZWB6vTaO-T"
   },
   "source": [
    "### Part 1: Critique this plan (10 points)\n",
    "1\\. After a few beers your CIO invited his buddy from Green Berry consulting to propose a project using data mining to improve the targeting of the new service that you have been a principal in developing. The service has been quite successful so far, being marketed over the last 6 months via your ingenious, and very inexpensive, word-of-mouth campaign. You've already garnered a pretty large customer base without any targeting, and you've been seeing this success as your best stepping stone to bigger and better things in the firm. \n",
    "\n",
    "After some reflection, you've decided that your best course of action is to play a key role in ensuring the success of this data mining project as well. You agree with your CIO's statement in a meeting with Green Berry, that accurate targeting might cost-effectively expand your audience substantially to consumers that word-of-mouth would not reach. You accept that what Green Berry says about the characteristics of your service is accurate.\n",
    "\n",
    "Based on what we have covered in class, identify the four most serious weaknesses/flaws in this abridged version of Green Berry's proposal, and suggest how to ameliorate them.  Your answer should be 4 bullet points, each comprising 2-4 sentences: 1-2 sentences stating each weakness, and 1-2 sentences suggesting a better alternative.  Maximal credit will be given when the 4 points are as independent as possible.\n",
    "\n",
    "\n",
    "```\n",
    "--- -------------------------------------------------------------------------- ---\n",
    "                            Targeted Audience Expansion             \n",
    "                      Prepared by Green Berry Consulting, Inc.\n",
    "\n",
    "Your problem is to expand the audience of your new service.  We (Green Berry) have a \n",
    "large database of consumers who can be targeted.  We will build a predictive model \n",
    "to estimate which of these consumers are the most likely to adopt the product, and\n",
    "then target them with the special offer you have designed.\n",
    "\n",
    "More specifically, we will build a decision tree (DT) model to predict adop-\n",
    "tion of the service by a consumer, based on the data on your current customers of \n",
    "this service.  The model will be based on their demographics and their usage of \n",
    "the service. We believe that DT is the best choice of method be-\n",
    "cause it is a tried-and-true modeling technique, and we can easily \n",
    "interpret the model to infer whether the attributes make sense. We will apply the model to our large \n",
    "database of consumers, and select out those who have not yet subscribed and whom\n",
    "the DT model predicts to be likely to subscribe.  To these we will send \n",
    "the targeted offer. As this is a fixed-profit-per-customer service, this also \n",
    "will in effect rank them by expected profit.\n",
    "--- -------------------------------------------------------------------------- ---\n",
    "```"
   ]
  },
  {
   "cell_type": "markdown",
   "metadata": {
    "id": "9EsboGuO-Q1u"
   },
   "source": [
    "**Write your answer here.**\n",
    "\n",
    "- Decision Tree models are easy to overfit. The flexibility of decision tree algorithms requires careful tuning of parameters and leaf pruning. In order to ameliorate this flaw, the model should not try to fit all examples and stop before the training set is depleted. Leaf pruning of the resulting tree should be done after all modeling examples are fitted and prevent overgrowing trees.\n",
    "- Tree splitting is locally greedy, small changes in data can lead to extremely different results. At each level the tree looks for a binary split such that impurity of tree is reduced by maximum amount, this will typically lead to a local optimal rather than a global optimal. A solution to this problem would be dynamic programming. Dynamic programming solves this issue by precomuting and storing simplier/similar subproblems which counters issues with greedy algorithms.\n",
    "- Decision Tree algorithm is inadaquet in predicting continuous values. It would be difficult to rank expected profit from each customer as it would only be sufficient to group them. One solution to this problem would be to create groups such as \"Highly Profitable\", \"Medium Profitable\", and \"Low Profitable.\" Given the result of the dataset, one can set a range for each of these groups and catagorize them. With this information we can target those in the Highly or Medium Profitable groups.\n",
    "- Optimal Decision Tree is a NP-complete problem. Global optimization of a decision tree is nearly impossible due to it's humongous features. One should build another model such as clustering, linear regression, or logistic regression to verify it's results. "
   ]
  },
  {
   "cell_type": "markdown",
   "metadata": {
    "id": "4SnyptqvaO-c"
   },
   "source": [
    "### Part 2: Working with Time Series (5 points)\n",
    "\n",
    "Here we will analyze a timeseries of number of Yellow Fever cases from a specific Asian country by year. The data is from 1700 – 2008 (use file cases.csv for this section)."
   ]
  },
  {
   "cell_type": "markdown",
   "metadata": {
    "id": "ABtgguSaaO-c"
   },
   "source": [
    "1\\. Load the timeseries data set, and prepare the dataset by converting the variables to date-time format (hint: use date tools and the library statsmodels). (1 point)"
   ]
  },
  {
   "cell_type": "code",
   "execution_count": 2,
   "metadata": {
    "id": "l-jil5EzaO-c"
   },
   "outputs": [],
   "source": [
    "#write your code here\n",
    "import pandas as pd\n",
    "import matplotlib.pyplot as plt\n",
    "import statsmodels.api as sm\n",
    "\n",
    "dta = pd.read_csv(\"cases.csv\")\n",
    "dta.index = pd.Index(sm.tsa.datetools.dates_from_range('1700','2008'))\n",
    "del dta['YEAR']"
   ]
  },
  {
   "cell_type": "markdown",
   "metadata": {
    "id": "E2NaDCfD78vV"
   },
   "source": [
    "2\\. Plot the autocorrelation function (ACF) for the cases timeseries (hint: use statsmodels plot_acf for that). (2 points)\n",
    "\n",
    "To learn more about how to interpret these graphs, you may find this useful: https://medium.com/analytics-vidhya/interpreting-acf-or-auto-correlation-plot-d12e9051cd14"
   ]
  },
  {
   "cell_type": "code",
   "execution_count": 9,
   "metadata": {
    "id": "voyyfG2f-gkJ"
   },
   "outputs": [
    {
     "data": {
      "image/png": "[encoded data removed]",
      "text/plain": [
       "<Figure size 432x288 with 1 Axes>"
      ]
     },
     "metadata": {
      "needs_background": "light"
     },
     "output_type": "display_data"
    }
   ],
   "source": [
    "#write your code here\n",
    "sm.graphics.tsa.plot_acf(dta.values.squeeze(), lags=40)\n",
    "plt.show()"
   ]
  },
  {
   "cell_type": "markdown",
   "metadata": {
    "collapsed": true,
    "id": "hZH0NvHJaO-d"
   },
   "source": [
    "3\\. An approach to assess the presence of a significant autocorrelation in the data is to use the Durbin-Waton (DW) statistic. The value of the DW statistic is close to 2 if the errors are uncorrelated. What is the DW for our data? Does this suggest that the data has a relatively high or a relatively low autocorrelation? (2 point) "
   ]
  },
  {
   "cell_type": "code",
   "execution_count": 7,
   "metadata": {
    "id": "jWMRwxXtaO-d"
   },
   "outputs": [
    {
     "data": {
      "text/plain": [
       "array([0.13952893])"
      ]
     },
     "execution_count": 7,
     "metadata": {},
     "output_type": "execute_result"
    }
   ],
   "source": [
    "#write your code here\n",
    "from statsmodels.stats.stattools import durbin_watson\n",
    "durbin_watson(dta)"
   ]
  },
  {
   "cell_type": "markdown",
   "metadata": {
    "id": "aM-L4qDd-VRN"
   },
   "source": [
    "### Part 3: Comparison of Models (10 points)\n",
    "\n",
    "In this part we will be looking at data generated by particle physicists to test if machine learning can help classify whether certain particle decay experiments identify the presence of a Higgs Boson. One does not need to know anything about particle physics to do well here, but if you are curious, full feature and data descriptions can be found here:\n",
    "\n",
    "- https://www.kaggle.com/c/higgs-boson/data\n",
    "- http://higgsml.lal.in2p3.fr/files/2014/04/documentation_v1.8.pdf\n",
    "\n",
    "The goal of this assignment is to practice how to compare different classification models using the area under the ROC curve (AUC). \n"
   ]
  },
  {
   "cell_type": "markdown",
   "metadata": {
    "id": "fVJZxtmY-tvA"
   },
   "source": [
    "1\\. Create a data preparation and cleaning function that does the following:\n",
    "- Has a single input that is a file name string\n",
    "- Reads data (the data is comma separated, has a row header and the first column `EventID` is the index) into a pandas `dataframe`\n",
    "- Cleans the data\n",
    "  - Convert the feature `Label` to numeric (choose the minority class to be equal to 1)\n",
    "    - Create a feature `Y` with numeric label\n",
    "    - Drop the feature `Label`\n",
    "  - If a feature has missing values (i.e., `-999`): \n",
    "    - Create a dummy variable for the missing value\n",
    "      - Call the variable `orig_var_name` + `_mv` where `orig_var_name` is the name of the actual var with a missing value\n",
    "      - Give this new variable a 1 if the original variable is missing\n",
    "    - Replace the missing value with the average of the feature (make sure to compute the mean on records where the value isn't missing). You may find pandas' `.replace()` function useful.\n",
    "- After the above is done, rescales the data so that each feature has zero mean and unit variance (hint: look up sklearn.preprocessing)\n",
    "- Returns the cleaned and rescaled dataset\n",
    "\n",
    "Hint: as a guide, this function can easily be done in less than 15 lines. (2 points)"
   ]
  },
  {
   "cell_type": "code",
   "execution_count": 7,
   "metadata": {
    "id": "pXR97pcc-a4p"
   },
   "outputs": [],
   "source": [
    "#write your code here\n",
    "import pandas as pd\n",
    "import numpy as np\n",
    "from collections import Counter\n",
    "from sklearn.preprocessing import scale\n",
    "\n",
    "def cleanBosonData(infile_name):\n",
    "    raw=pd.read_csv(infile_name,header=0,index_col=0,na_values=-999)\n",
    "    raw=raw.replace({'Label':{Counter(raw['Label']).most_common()[0][0]:0,Counter(raw['Label']).most_common()[1][0]:1}}).rename(columns={'Label':'Y'})\n",
    "    for col in raw.columns.values[:-1]:\n",
    "        if raw[col].isnull().any().any():\n",
    "            raw[(col+'_mv')]=np.where(raw[col].isnull(),1,0)\n",
    "            raw[col]=raw[col].fillna(raw[col].mean())\n",
    "        raw[col]=scale(raw[col])\n",
    "    return raw"
   ]
  },
  {
   "cell_type": "markdown",
   "metadata": {
    "id": "KAnaZJ4V-6Sw"
   },
   "source": [
    "2\\. Clean the two data files included in this assignment (`boson_training_cut_2000.csv` and `boson_testing_cut.csv`) and use them as training and testing data sets.\n",
    "\n",
    "(1 Point)"
   ]
  },
  {
   "cell_type": "code",
   "execution_count": 9,
   "metadata": {
    "id": "WJaEeYEX_FtL"
   },
   "outputs": [],
   "source": [
    "#write your code here\n",
    "data_train = cleanBosonData(\"boson_training_cut_2000.csv\")\n",
    "data_test = cleanBosonData(\"boson_testing_cut.csv\")"
   ]
  },
  {
   "cell_type": "markdown",
   "metadata": {
    "id": "DjoTuYaO_LvT"
   },
   "source": [
    "3\\. On the training set, build the following models:\n",
    "\n",
    "- A KNN classifier using sklearn's `neighbors.KNeighborsClassifier`. For this model, use the standard parameters. \n",
    "- An sklearn classifier of your choice (e.g., `tree.DecisionTreeClassifierSVM`, `svm.svc()`, `linear_model.LogisticRegression()`, `naive_bayes.GaussianNB` etc.).\n",
    "\n",
    "For each model above, plot the ROC curve of both models on the same plot. Make sure to use the test set for computing and plotting. In the legend, also print out the Area Under the ROC (AUC) for reference.\n",
    "\n",
    "(Hint: to get the prediction thresholds that are necessary for the AUC, use function predict_proba() for KNN and for the classifier you choose if it has it. If you work with SVM, use function decision_function().)\n",
    "\n",
    "(4 Points)"
   ]
  },
  {
   "cell_type": "code",
   "execution_count": 10,
   "metadata": {
    "id": "fCXH1c69SiL_"
   },
   "outputs": [
    {
     "data": {
      "image/png": "[encoded data removed]",
      "text/plain": [
       "<Figure size 720x360 with 1 Axes>"
      ]
     },
     "metadata": {
      "needs_background": "light"
     },
     "output_type": "display_data"
    }
   ],
   "source": [
    "#write your code here\n",
    "import matplotlib\n",
    "import matplotlib.pyplot as plt\n",
    "from sklearn.metrics import roc_auc_score, roc_curve\n",
    "from sklearn import linear_model\n",
    "from sklearn.svm import SVC\n",
    "\n",
    "%matplotlib inline\n",
    "#Creating a model using Logistic regression\n",
    "logreg = linear_model.LogisticRegression(C = 1e30).fit(data_train.drop('Y', 1), data_train['Y'])\n",
    "#Creating a model using Support Vector Machines\n",
    "svm=SVC(kernel=\"linear\").fit(data_train.drop('Y',1),data_train['Y'])\n",
    "\n",
    "#We predict values using the above developed models\n",
    "pred_logreg=logreg.predict(data_test.drop('Y',1))\n",
    "pred_svm=svm.predict(data_test.drop('Y',1))\n",
    "\n",
    "#Calculating the FPR and the TPR for our predicted values\n",
    "roc_log=roc_curve(y_true=data_test['Y'],y_score=pred_logreg)\n",
    "roc_svm=roc_curve(y_true=data_test['Y'],y_score=pred_svm)\n",
    "\n",
    "#Plotting values on a graph\n",
    "plt.figure(figsize=(10,5))\n",
    "plt.plot(roc_log[0],roc_log[1],color='darkorange',lw=3,label='AUC for Logistic Regression: %.4f' %(roc_auc_score(y_true=data_test['Y'],y_score=pred_logreg)))\n",
    "plt.plot(roc_svm[0],roc_svm[1],color='navy',lw=3,label='AUC for SVM: %.4f' %(roc_auc_score(y_true=data_test['Y'],y_score=pred_svm)))\n",
    "plt.plot([0, 1], [0, 1], color='black', lw=1, linestyle='--') #We plot a base line to indicate 0.5 indicating random chance\n",
    "plt.title('Area under the ROC')\n",
    "plt.legend(loc='lower right')\n",
    "plt.xlabel('False Positive Rate')\n",
    "plt.ylabel('True Positive Rate')\n",
    "plt.show()"
   ]
  },
  {
   "cell_type": "markdown",
   "metadata": {
    "id": "YQqzhaJjSjWQ"
   },
   "source": [
    "4\\. Which of the two models is generally better at ranking the test set? Are there any classification thresholds where the model identified above as \"better\" would underperform the other in any classification metric (such as recall)? (3 points)"
   ]
  },
  {
   "cell_type": "markdown",
   "metadata": {
    "id": "zCG1kTeNV8qg"
   },
   "source": [
    "**Write your analysis here.**"
   ]
  },
  {
   "cell_type": "code",
   "execution_count": 11,
   "metadata": {},
   "outputs": [
    {
     "data": {
      "text/plain": [
       "'Logistic'"
      ]
     },
     "metadata": {},
     "output_type": "display_data"
    },
    {
     "data": {
      "text/html": [
       "<div>\n",
       "<style scoped>\n",
       "    .dataframe tbody tr th:only-of-type {\n",
       "        vertical-align: middle;\n",
       "    }\n",
       "\n",
       "    .dataframe tbody tr th {\n",
       "        vertical-align: top;\n",
       "    }\n",
       "\n",
       "    .dataframe thead th {\n",
       "        text-align: right;\n",
       "    }\n",
       "</style>\n",
       "<table border=\"1\" class=\"dataframe\">\n",
       "  <thead>\n",
       "    <tr style=\"text-align: right;\">\n",
       "      <th></th>\n",
       "      <th>0</th>\n",
       "      <th>1</th>\n",
       "    </tr>\n",
       "  </thead>\n",
       "  <tbody>\n",
       "    <tr>\n",
       "      <th>0</th>\n",
       "      <td>29399</td>\n",
       "      <td>3438</td>\n",
       "    </tr>\n",
       "    <tr>\n",
       "      <th>1</th>\n",
       "      <td>10566</td>\n",
       "      <td>6597</td>\n",
       "    </tr>\n",
       "  </tbody>\n",
       "</table>\n",
       "</div>"
      ],
      "text/plain": [
       "       0     1\n",
       "0  29399  3438\n",
       "1  10566  6597"
      ]
     },
     "metadata": {},
     "output_type": "display_data"
    },
    {
     "data": {
      "text/plain": [
       "'SVM'"
      ]
     },
     "metadata": {},
     "output_type": "display_data"
    },
    {
     "data": {
      "text/html": [
       "<div>\n",
       "<style scoped>\n",
       "    .dataframe tbody tr th:only-of-type {\n",
       "        vertical-align: middle;\n",
       "    }\n",
       "\n",
       "    .dataframe tbody tr th {\n",
       "        vertical-align: top;\n",
       "    }\n",
       "\n",
       "    .dataframe thead th {\n",
       "        text-align: right;\n",
       "    }\n",
       "</style>\n",
       "<table border=\"1\" class=\"dataframe\">\n",
       "  <thead>\n",
       "    <tr style=\"text-align: right;\">\n",
       "      <th></th>\n",
       "      <th>0</th>\n",
       "      <th>1</th>\n",
       "    </tr>\n",
       "  </thead>\n",
       "  <tbody>\n",
       "    <tr>\n",
       "      <th>0</th>\n",
       "      <td>31586</td>\n",
       "      <td>1251</td>\n",
       "    </tr>\n",
       "    <tr>\n",
       "      <th>1</th>\n",
       "      <td>13912</td>\n",
       "      <td>3251</td>\n",
       "    </tr>\n",
       "  </tbody>\n",
       "</table>\n",
       "</div>"
      ],
      "text/plain": [
       "       0     1\n",
       "0  31586  1251\n",
       "1  13912  3251"
      ]
     },
     "metadata": {},
     "output_type": "display_data"
    }
   ],
   "source": [
    "from sklearn.metrics import confusion_matrix\n",
    "from IPython.display import display, HTML\n",
    "\n",
    "#Preparing confusion matrix to check different performance measures\n",
    "conf_logreg=pd.DataFrame(confusion_matrix(y_true=data_test['Y'],y_pred=pred_logreg))\n",
    "conf_svm=pd.DataFrame(confusion_matrix(y_true=data_test['Y'],y_pred=pred_svm))\n",
    "\n",
    "display('Logistic')\n",
    "display(conf_logreg)\n",
    "display('SVM')\n",
    "display(conf_svm)"
   ]
  },
  {
   "cell_type": "markdown",
   "metadata": {},
   "source": [
    "The Logistic model performs better than the SVM model on an average. We judge them by using the AUC metric which is base rate invariant. There are specific thresholds for which one model outperforms the other and the final selection must be made on the basis of the utility of the model.\n",
    "\n",
    "In Logistic:\n",
    "\n",
    "We observe that the TPR (predicted 0 and actual 0) is higher than SvM. Logistic correctly classifies actual true values for 6597 cases as compared to SVM's 3251 values.\n",
    "The False Negative Error rate is also less. Logistic has 10566 while SVM has 13912 false negatives.\n",
    "In SVM:\n",
    "\n",
    "It is better at classifying True Positives than Logistic. It correctly identifies positives for 31586 cases as compared to logistic's 29399 cases.\n",
    "The False Positive rate (1251) is also lower than logistic (3438)"
   ]
  }
 ],
 "metadata": {
  "colab": {
   "collapsed_sections": [],
   "name": "Homework_4_CS6053_Fall21.ipynb",
   "provenance": []
  },
  "kernelspec": {
   "display_name": "Python 3",
   "language": "python",
   "name": "python3"
  },
  "language_info": {
   "codemirror_mode": {
    "name": "ipython",
    "version": 3
   },
   "file_extension": ".py",
   "mimetype": "text/x-python",
   "name": "python",
   "nbconvert_exporter": "python",
   "pygments_lexer": "ipython3",
   "version": "3.8.8"
  }
 },
 "nbformat": 4,
 "nbformat_minor": 1
}
